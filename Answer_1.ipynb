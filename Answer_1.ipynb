{
  "nbformat": 4,
  "nbformat_minor": 0,
  "metadata": {
    "colab": {
      "provenance": [],
      "authorship_tag": "ABX9TyOe4otDGXvNaEM7GwAnrB/F",
      "include_colab_link": true
    },
    "kernelspec": {
      "name": "python3",
      "display_name": "Python 3"
    },
    "language_info": {
      "name": "python"
    }
  },
  "cells": [
    {
      "cell_type": "markdown",
      "metadata": {
        "id": "view-in-github",
        "colab_type": "text"
      },
      "source": [
        "<a href=\"https://colab.research.google.com/github/shahzain110/Bark/blob/main/Answer_1.ipynb\" target=\"_parent\"><img src=\"https://colab.research.google.com/assets/colab-badge.svg\" alt=\"Open In Colab\"/></a>"
      ]
    },
    {
      "cell_type": "markdown",
      "source": [
        "**Answer 1 : Functions and Control Structures**\n",
        "\n",
        "---\n",
        "\n"
      ],
      "metadata": {
        "id": "Kl8YhQ-0Em8r"
      }
    },
    {
      "cell_type": "code",
      "execution_count": 4,
      "metadata": {
        "id": "ebaYDY-bEmDE"
      },
      "outputs": [],
      "source": [
        "def tell_wind_condition(wind_speed : int) -> str:\n",
        "  \"\"\"\n",
        "  Determines the wind condition based on the given wind speed.\n",
        "\n",
        "  Parameters:\n",
        "  wind_speed (int): The speed of the wind in arbitrary units (e.g., km/h or mph).\n",
        "\n",
        "  Returns:\n",
        "  str: A description of the wind condition:\n",
        "        - \"Calm\" for wind speeds below 5\n",
        "        - \"Moderate\" for wind speeds between 5 and 15 (inclusive)\n",
        "        - \"High\" for wind speeds above 15\n",
        "  \"\"\"\n",
        "\n",
        "  if wind_speed < 5:\n",
        "    return \"Calm\"\n",
        "  elif wind_speed >= 5 and wind_speed <= 15:\n",
        "    return \"Moderate\"\n",
        "  else:\n",
        "    return \"High\""
      ]
    },
    {
      "cell_type": "code",
      "source": [
        "result = tell_wind_condition(2)\n",
        "print(result)\n",
        "\n",
        "result = tell_wind_condition(15)\n",
        "print(result)\n",
        "\n",
        "result = tell_wind_condition(25)\n",
        "print(result)"
      ],
      "metadata": {
        "colab": {
          "base_uri": "https://localhost:8080/"
        },
        "id": "VD5uCko9FLRJ",
        "outputId": "c61e4e56-b15b-4305-b2a1-349bb614bd20"
      },
      "execution_count": 5,
      "outputs": [
        {
          "output_type": "stream",
          "name": "stdout",
          "text": [
            "Calm\n",
            "Moderate\n",
            "High\n"
          ]
        }
      ]
    },
    {
      "cell_type": "code",
      "source": [
        "!git init\n",
        "!git remote add origin https://github.com/shahzain110/Final_Exam.git\n",
        "!git branch -M main\n",
        "!git push -u origin main"
      ],
      "metadata": {
        "colab": {
          "base_uri": "https://localhost:8080/"
        },
        "id": "4ZFfzQREF2b2",
        "outputId": "7757aca2-a901-449c-b374-af89f3364ec1"
      },
      "execution_count": 7,
      "outputs": [
        {
          "output_type": "stream",
          "name": "stdout",
          "text": [
            "\u001b[33mhint: Using 'master' as the name for the initial branch. This default branch name\u001b[m\n",
            "\u001b[33mhint: is subject to change. To configure the initial branch name to use in all\u001b[m\n",
            "\u001b[33mhint: of your new repositories, which will suppress this warning, call:\u001b[m\n",
            "\u001b[33mhint: \u001b[m\n",
            "\u001b[33mhint: \tgit config --global init.defaultBranch <name>\u001b[m\n",
            "\u001b[33mhint: \u001b[m\n",
            "\u001b[33mhint: Names commonly chosen instead of 'master' are 'main', 'trunk' and\u001b[m\n",
            "\u001b[33mhint: 'development'. The just-created branch can be renamed via this command:\u001b[m\n",
            "\u001b[33mhint: \u001b[m\n",
            "\u001b[33mhint: \tgit branch -m <name>\u001b[m\n",
            "Initialized empty Git repository in /content/.git/\n",
            "error: src refspec main does not match any\n",
            "\u001b[31merror: failed to push some refs to 'https://github.com/shahzain110/Final_Exam.git'\n",
            "\u001b[m"
          ]
        }
      ]
    },
    {
      "cell_type": "code",
      "source": [],
      "metadata": {
        "id": "DVeMQfASJ5qQ"
      },
      "execution_count": null,
      "outputs": []
    }
  ]
}